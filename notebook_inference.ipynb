{
 "cells": [
  {
   "cell_type": "code",
   "execution_count": 1,
   "metadata": {},
   "outputs": [],
   "source": [
    "from IPython.display import display\n",
    "import ipywidgets as widgets\n",
    "import io\n",
    "\n",
    "from image_classifier import CNNImageClassifier"
   ]
  },
  {
   "cell_type": "code",
   "execution_count": 6,
   "metadata": {},
   "outputs": [],
   "source": [
    "model = CNNImageClassifier()\n",
    "\n",
    "upload_widget = widgets.FileUpload(\n",
    "    accept='image/*', \n",
    "    multiple=False \n",
    ")\n",
    "\n",
    "output = widgets.Output()\n",
    "\n",
    "def on_upload_change(change):\n",
    "    with output:\n",
    "        output.clear_output()\n",
    "        \n",
    "        if not upload_widget.value:\n",
    "            return\n",
    "            \n",
    "        # Ambil file yang diupload (hanya file pertama jika multiple=True)\n",
    "        uploaded_file = next(iter(upload_widget.value.values()))\n",
    "        content = uploaded_file['content']\n",
    "        \n",
    "        # Lakukan prediksi\n",
    "        pred_class, pred_label, probabilities = model(content)\n",
    "        \n",
    "        # Tampilkan hasil\n",
    "        print(f\"Prediksi Huruf ASL: {pred_label} (Kelas {pred_class})\")\n",
    "        print(f\"Nilai kepercayaan: {probabilities[pred_class]:.4f}\")"
   ]
  },
  {
   "cell_type": "code",
   "execution_count": 7,
   "metadata": {},
   "outputs": [
    {
     "data": {
      "application/vnd.jupyter.widget-view+json": {
       "model_id": "c56a572366cd4eccb73ffee4ebcd1d32",
       "version_major": 2,
       "version_minor": 0
      },
      "text/plain": [
       "FileUpload(value={}, accept='image/*', description='Upload')"
      ]
     },
     "metadata": {},
     "output_type": "display_data"
    },
    {
     "data": {
      "application/vnd.jupyter.widget-view+json": {
       "model_id": "fe0f5b3a5826480ca6f9f41b80ca10f9",
       "version_major": 2,
       "version_minor": 0
      },
      "text/plain": [
       "Output()"
      ]
     },
     "metadata": {},
     "output_type": "display_data"
    }
   ],
   "source": [
    "upload_widget.observe(on_upload_change, names='value')\n",
    "display(upload_widget, output)"
   ]
  },
  {
   "cell_type": "code",
   "execution_count": null,
   "metadata": {},
   "outputs": [],
   "source": []
  }
 ],
 "metadata": {
  "kernelspec": {
   "display_name": "base",
   "language": "python",
   "name": "python3"
  },
  "language_info": {
   "codemirror_mode": {
    "name": "ipython",
    "version": 3
   },
   "file_extension": ".py",
   "mimetype": "text/x-python",
   "name": "python",
   "nbconvert_exporter": "python",
   "pygments_lexer": "ipython3",
   "version": "3.12.3"
  }
 },
 "nbformat": 4,
 "nbformat_minor": 2
}
